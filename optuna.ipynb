{
 "cells": [
  {
   "cell_type": "code",
   "execution_count": null,
   "metadata": {},
   "outputs": [],
   "source": [
    "import optuna\n",
    "import joblib\n",
    "from keras.datasets import mnist\n",
    "from keras.utils import to_categorical\n",
    "from keras.models import Sequential\n",
    "from keras.layers import Dense, Dropout, Flatten, Conv2D, MaxPooling2D, BatchNormalization\n",
    "from keras.optimizers import RMSprop, Adam, SGD"
   ]
  },
  {
   "cell_type": "code",
   "execution_count": null,
   "metadata": {},
   "outputs": [],
   "source": [
    "CATEGORIES = 10\n",
    "EPOCHS = 10\n",
    "LOAD_STUDY_NAME = None\n",
    "SAVE_STUDY_NAME = \"study.pkl\""
   ]
  },
  {
   "cell_type": "code",
   "execution_count": null,
   "metadata": {},
   "outputs": [],
   "source": [
    "def load_data():\n",
    "    (X_train, y_train), (X_test, y_test) = mnist.load_data()\n",
    "\n",
    "    X_train = X_train.astype('float32')\n",
    "    X_test = X_test.astype('float32')\n",
    "\n",
    "    # scale inputs to be in range [0-1]\n",
    "    X_train /= 255\n",
    "    X_test /= 255\n",
    "\n",
    "    Y_train = to_categorical(y_train, CATEGORIES)\n",
    "    Y_test = to_categorical(y_test, CATEGORIES)\n",
    "\n",
    "    return X_train, Y_train, X_test, Y_test\n",
    "\n",
    "X_train, Y_train, X_test, Y_test = load_data()"
   ]
  },
  {
   "cell_type": "code",
   "execution_count": null,
   "metadata": {},
   "outputs": [],
   "source": [
    "def create_model(trial):\n",
    "    # Suggest hyperparameter ranges\n",
    "    num_filters = trial.suggest_int('num_filters', 16, 64)\n",
    "    dropout_rate = trial.suggest_float('dropout_rate', 0.0, 0.5)\n",
    "    learning_rate = trial.suggest_float('learning_rate', 1e-5, 1e-1, log=True)\n",
    "    optimizer_selected = trial.suggest_categorical('optimizer', ['rmsprop', 'adam', 'sgd'])\n",
    "\n",
    "    # Define the model architecture\n",
    "    model = Sequential()\n",
    "    model.add(Conv2D(filters=num_filters, kernel_size=(3, 3), activation='relu', strides=1, padding='same', data_format='channels_last', input_shape=(28,28,1)))\n",
    "    model.add(BatchNormalization())\n",
    "    model.add(Conv2D(filters=num_filters, kernel_size=(3, 3), activation='relu', strides=1, padding='same', data_format='channels_last'))\n",
    "    model.add(BatchNormalization())\n",
    "    model.add(MaxPooling2D(pool_size=(2, 2), strides=2, padding='valid' ))\n",
    "    model.add(BatchNormalization())\n",
    "    model.add(Dropout(dropout_rate))\n",
    "\n",
    "    model.add(Flatten())\n",
    "    model.add(Dense(512, activation='relu'))\n",
    "    model.add(BatchNormalization())\n",
    "    model.add(Dropout(dropout_rate))\n",
    "    model.add(Dense(10, activation='softmax'))\n",
    "\n",
    "    # Compile the model with the suggested optimizer and learning rate\n",
    "    if optimizer_selected == 'rmsprop':\n",
    "        optimizer = RMSprop(learning_rate=learning_rate)\n",
    "    elif optimizer_selected == 'adam':\n",
    "        optimizer = Adam(learning_rate=learning_rate)\n",
    "    elif optimizer_selected == 'sgd':\n",
    "        optimizer = SGD(learning_rate=learning_rate)\n",
    "\n",
    "    model.compile(optimizer=optimizer, loss='categorical_crossentropy', metrics=[\"accuracy\"])\n",
    "    \n",
    "    return model"
   ]
  },
  {
   "cell_type": "code",
   "execution_count": null,
   "metadata": {},
   "outputs": [],
   "source": [
    "def objective(trial):\n",
    "    # Create the model using the suggested hyperparameters\n",
    "    model = create_model(trial)\n",
    "\n",
    "    # Also experiment with batch sizes\n",
    "    batch_size = trial.suggest_categorical('batch_size', [32, 64, 128, 256, 512])\n",
    "    \n",
    "    # Fit the model\n",
    "    history = model.fit(X_train, Y_train, batch_size=batch_size, validation_data=(X_test, Y_test), epochs=EPOCHS, verbose=0)\n",
    "    \n",
    "    # Return the test accuracy (the trial's objective function)\n",
    "    accuracy = model.evaluate(X_test, Y_test, verbose=0)[1]\n",
    "    return accuracy"
   ]
  },
  {
   "cell_type": "code",
   "execution_count": null,
   "metadata": {},
   "outputs": [],
   "source": [
    "if LOAD_STUDY_NAME:\n",
    "    study = joblib.load(LOAD_STUDY_NAME)\n",
    "else:\n",
    "    study = optuna.create_study(direction='maximize')\n",
    "study.optimize(objective, n_trials=100, n_jobs=4, show_progress_bar=True)\n",
    "print(study.best_params)\n",
    "\n",
    "if SAVE_STUDY_NAME:\n",
    "    joblib.dump(study, SAVE_STUDY_NAME)"
   ]
  }
 ],
 "metadata": {
  "kernelspec": {
   "display_name": "syde599",
   "language": "python",
   "name": "python3"
  },
  "language_info": {
   "codemirror_mode": {
    "name": "ipython",
    "version": 3
   },
   "file_extension": ".py",
   "mimetype": "text/x-python",
   "name": "python",
   "nbconvert_exporter": "python",
   "pygments_lexer": "ipython3",
   "version": "3.11.5"
  }
 },
 "nbformat": 4,
 "nbformat_minor": 2
}
